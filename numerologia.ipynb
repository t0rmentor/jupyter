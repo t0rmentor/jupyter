{
 "cells": [
  {
   "cell_type": "code",
   "execution_count": 57,
   "metadata": {
    "collapsed": false
   },
   "outputs": [
    {
     "name": "stdout",
     "output_type": "stream",
     "text": [
      "9\n",
      "Twoja droga życia to: 22 \n"
     ]
    }
   ],
   "source": [
    "def numerologicznaSumaCyfr(liczba):\n",
    "    #tak dlugo jak suma cyfr wieksza od 9 i nie jest liczbą mistrzowską (podzielną przez 11)\n",
    "    while (liczba%11 !=0 and liczba > 9 ):\n",
    "        liczba = sum(int(digit) for digit in str(liczba))\n",
    "    return liczba\n",
    "        \n",
    "\n",
    "def liczPortretNumerologiczny(data_urodzenia):\n",
    "    # format daty typu dzien.miesiac.rok\n",
    "    suma = sum(int(x) for x in data_urodzenia if x.isdigit())\n",
    "    # print(\"Suma przed pętlą %d\" %suma)\n",
    "    return numerologicznaSumaCyfr(suma)\n",
    "\n",
    "\n",
    "\n",
    "def liczNumerologieSlowa(slowo):\n",
    "    slownik = {'a':1,\n",
    "               'b':2,\n",
    "               'c':3,\n",
    "               'd':4,\n",
    "               'e':5,\n",
    "               'f':6,\n",
    "               'g':7,\n",
    "               'h':8,\n",
    "               'i':9,\n",
    "               'j':1,\n",
    "               'k':2,\n",
    "               'l':3,\n",
    "               'm':4,\n",
    "               'n':5,\n",
    "               'o':6,\n",
    "               'p':7,\n",
    "               'q':8,\n",
    "               'r':9,\n",
    "               's':1,\n",
    "               't':2,\n",
    "               'u':3,\n",
    "               'v':4,\n",
    "               'w':5,\n",
    "               'x':6,\n",
    "               'y':7,\n",
    "               'z':8 }\n",
    "    \n",
    "    suma=0\n",
    "    for litera in slowo.lower():\n",
    "        for key in slownik:\n",
    "            if litera == key:\n",
    "                suma+=slownik[key]\n",
    "    return numerologicznaSumaCyfr(suma)\n",
    "\n",
    "\n",
    "print(liczNumerologieSlowa(\"Aleksander\"))\n",
    "\n",
    "print(\"Twoja droga życia to: %d \" % (liczPortretNumerologiczny(\"02.06.1184\")))\n"
   ]
  },
  {
   "cell_type": "code",
   "execution_count": null,
   "metadata": {
    "collapsed": false
   },
   "outputs": [],
   "source": []
  },
  {
   "cell_type": "code",
   "execution_count": null,
   "metadata": {
    "collapsed": false
   },
   "outputs": [],
   "source": [
    "\n",
    "\n",
    "\n",
    "        \n",
    "        \n",
    "        \n",
    "    "
   ]
  },
  {
   "cell_type": "code",
   "execution_count": null,
   "metadata": {
    "collapsed": true
   },
   "outputs": [],
   "source": []
  }
 ],
 "metadata": {
  "kernelspec": {
   "display_name": "Python 3",
   "language": "python",
   "name": "python3"
  },
  "language_info": {
   "codemirror_mode": {
    "name": "ipython",
    "version": 3
   },
   "file_extension": ".py",
   "mimetype": "text/x-python",
   "name": "python",
   "nbconvert_exporter": "python",
   "pygments_lexer": "ipython3",
   "version": "3.4.3"
  }
 },
 "nbformat": 4,
 "nbformat_minor": 0
}
